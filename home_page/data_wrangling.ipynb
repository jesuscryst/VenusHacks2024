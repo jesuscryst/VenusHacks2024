{
 "cells": [
  {
   "cell_type": "code",
   "execution_count": 25,
   "metadata": {},
   "outputs": [],
   "source": [
    "import pandas as pd\n",
    "\n",
    "setupDF = [\"auth_code\", \"schedule\"]\n",
    "\n",
    "df = pd.DataFrame(columns=setupDF)\n",
    "\n",
    "df.to_csv(\"database.csv\")"
   ]
  },
  {
   "cell_type": "code",
   "execution_count": 28,
   "metadata": {},
   "outputs": [],
   "source": [
    "mockdata = {\n",
    "    \"auth_code\": \"ADSDS\",\n",
    "    \"2024/5/25\": [[\"take baby to the doctor\", \"pay me back\"]],\n",
    "    \"2024/5/27\": [[\"laundry\"]]\n",
    "}\n",
    "\n",
    "df = pd.DataFrame(mockdata)\n",
    "df.head()\n",
    "df.to_csv(\"database.csv\")"
   ]
  }
 ],
 "metadata": {
  "kernelspec": {
   "display_name": "base",
   "language": "python",
   "name": "python3"
  },
  "language_info": {
   "codemirror_mode": {
    "name": "ipython",
    "version": 3
   },
   "file_extension": ".py",
   "mimetype": "text/x-python",
   "name": "python",
   "nbconvert_exporter": "python",
   "pygments_lexer": "ipython3",
   "version": "3.11.7"
  }
 },
 "nbformat": 4,
 "nbformat_minor": 2
}
